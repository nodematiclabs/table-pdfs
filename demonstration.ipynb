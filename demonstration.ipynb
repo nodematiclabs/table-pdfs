{
 "cells": [
  {
   "cell_type": "code",
   "execution_count": 3,
   "id": "49dd16aa-03c6-4a2c-b68d-cf8955dc3b12",
   "metadata": {
    "tags": []
   },
   "outputs": [],
   "source": [
    "!pip -q install google-cloud-documentai"
   ]
  },
  {
   "cell_type": "code",
   "execution_count": 4,
   "id": "cd2a9adf-c4b3-432a-9490-e2fae9ea8e73",
   "metadata": {
    "tags": []
   },
   "outputs": [],
   "source": [
    "from google.cloud import documentai\n",
    "import pandas as pd"
   ]
  },
  {
   "cell_type": "code",
   "execution_count": 5,
   "id": "1b4e16a9-dd67-4e1a-b44b-dbad34dfaef8",
   "metadata": {
    "tags": []
   },
   "outputs": [],
   "source": [
    "PROJECT_ID = \"YOUR PROJECT\"\n",
    "LOCATION = \"us\"\n",
    "PROCESSOR_ID = \"YOUR PROCESSOR ID\"\n",
    "FILE_PATH = \"form_with_tables.pdf\"\n",
    "MIME_TYPE = \"application/pdf\""
   ]
  },
  {
   "cell_type": "code",
   "execution_count": 6,
   "id": "499507ba-d942-41fb-95ca-897f429e4da9",
   "metadata": {
    "tags": []
   },
   "outputs": [],
   "source": [
    "opts = {\"api_endpoint\": f\"{LOCATION}-documentai.googleapis.com\"}\n",
    "\n",
    "documentai_client = documentai.DocumentProcessorServiceClient(client_options=opts)\n",
    "\n",
    "resource_name = documentai_client.processor_path(PROJECT_ID, LOCATION, PROCESSOR_ID)"
   ]
  },
  {
   "cell_type": "code",
   "execution_count": 8,
   "id": "a9b8ebea-5ad0-4325-a4d2-afdc7be7a018",
   "metadata": {
    "tags": []
   },
   "outputs": [],
   "source": [
    "with open(FILE_PATH, \"rb\") as image:\n",
    "    image_content = image.read()\n",
    "    \n",
    "    raw_document = documentai.RawDocument(\n",
    "        content = image_content,\n",
    "        mime_type = MIME_TYPE\n",
    "    )\n",
    "    \n",
    "    request = documentai.ProcessRequest(\n",
    "        name=resource_name,\n",
    "        raw_document=raw_document\n",
    "    )\n",
    "    \n",
    "    result = documentai_client.process_document(request=request)"
   ]
  },
  {
   "cell_type": "code",
   "execution_count": 9,
   "id": "5953675b-7aaf-44f7-b92c-74eb7ef59d25",
   "metadata": {
    "tags": []
   },
   "outputs": [],
   "source": [
    "def text_anchor_to_text(text_anchor, text):\n",
    "    \"\"\"\n",
    "    Document AI identifies table data by their offsets in the entirety of the\n",
    "    document's text. This function converts offsets to a string.\n",
    "    \"\"\"\n",
    "    response = \"\"\n",
    "    # If a text segment spans several lines, it will\n",
    "    # be stored in different text segments.\n",
    "    for segment in text_anchor.text_segments:\n",
    "        start_index = int(segment.start_index)\n",
    "        end_index = int(segment.end_index)\n",
    "        response += text[start_index:end_index]\n",
    "    return response.strip().replace(\"\\n\", \" \")"
   ]
  },
  {
   "cell_type": "code",
   "execution_count": 16,
   "id": "514c1e09-ff04-4b1b-bcd2-38d323de18a3",
   "metadata": {
    "tags": []
   },
   "outputs": [],
   "source": [
    "def get_table_data(rows, text):\n",
    "    all_values = []\n",
    "    for row in rows:\n",
    "        current_row_values = []\n",
    "        for cell in row.cells:\n",
    "            current_row_values.append(\n",
    "                text_anchor_to_text(cell.layout.text_anchor, text)\n",
    "            )\n",
    "        all_values.append(current_row_values)\n",
    "    return all_values"
   ]
  },
  {
   "cell_type": "code",
   "execution_count": 17,
   "id": "f97923d6-0737-4524-b59c-9fe664d7befe",
   "metadata": {
    "tags": []
   },
   "outputs": [],
   "source": [
    "document = result.document\n",
    "\n",
    "header_row_values = []\n",
    "body_row_values = []\n",
    "\n",
    "for page in document.pages:\n",
    "    for index, table in enumerate(page.tables):\n",
    "        header_row_values = get_table_data(table.header_rows, document.text)\n",
    "        body_row_values = get_table_data(table.body_rows, document.text)\n",
    "        \n",
    "        df = pd.DataFrame(\n",
    "            data=body_row_values,\n",
    "            columns=pd.MultiIndex.from_arrays(header_row_values)\n",
    "        )\n",
    "        \n",
    "        df.to_csv(\"output.csv\", index=False)"
   ]
  },
  {
   "cell_type": "code",
   "execution_count": null,
   "id": "97d5fd22-93e9-46fa-83a5-0f7b349beb14",
   "metadata": {},
   "outputs": [],
   "source": []
  }
 ],
 "metadata": {
  "environment": {
   "kernel": "conda-base-py",
   "name": "workbench-notebooks.m121",
   "type": "gcloud",
   "uri": "us-docker.pkg.dev/deeplearning-platform-release/gcr.io/workbench-notebooks:m121"
  },
  "kernelspec": {
   "display_name": "Python 3 (ipykernel) (Local) (Local)",
   "language": "python",
   "name": "conda-base-py"
  },
  "language_info": {
   "codemirror_mode": {
    "name": "ipython",
    "version": 3
   },
   "file_extension": ".py",
   "mimetype": "text/x-python",
   "name": "python",
   "nbconvert_exporter": "python",
   "pygments_lexer": "ipython3",
   "version": "3.10.14"
  }
 },
 "nbformat": 4,
 "nbformat_minor": 5
}
